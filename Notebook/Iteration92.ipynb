{
 "cells": [
  {
   "cell_type": "code",
   "execution_count": 48,
   "outputs": [],
   "source": [
    "import numpy as np\n",
    "from sklearn.ensemble import RandomForestClassifier as RFC\n",
    "from sklearn.tree import DecisionTreeClassifier as DTC\n",
    "from matplotlib import pyplot as plt\n",
    "%matplotlib inline\n",
    "import datetime\n",
    "import pandas as pd\n",
    "from sklearn import preprocessing as pp\n",
    "from sklearn.linear_model import LogisticRegression as LR\n",
    "from sklearn.neighbors import KNeighborsClassifier as KNN\n",
    "\n",
    "import keras\n",
    "from keras.models import Sequential\n",
    "from keras.layers import Dense, Activation\n",
    "from keras.utils import np_utils"
   ],
   "metadata": {
    "collapsed": false
   }
  },
  {
   "cell_type": "code",
   "execution_count": 49,
   "outputs": [
    {
     "name": "stdout",
     "output_type": "stream",
     "text": [
      "(8124, 23)\n"
     ]
    }
   ],
   "source": [
    "ds = pd.read_csv('../Dataset/train.csv')\n",
    "dat = ds.values\n",
    "print(dat.shape)\n",
    "\n",
    "headers = list(ds.columns.values) #store features of mushrooms\n"
   ],
   "metadata": {
    "collapsed": false
   }
  },
  {
   "cell_type": "code",
   "execution_count": 50,
   "outputs": [
    {
     "data": {
      "text/plain": "(8124, 23)"
     },
     "execution_count": 50,
     "metadata": {},
     "output_type": "execute_result"
    }
   ],
   "source": [
    "#Data Preprocessing\n",
    "l = pp.LabelEncoder()\n",
    "l.fit(dat[:, 0])\n",
    "dataa = l.transform(dat[:, 0])\n",
    "\n",
    "for ix in range(1, dat.shape[1]):\n",
    "    le = pp.LabelEncoder()\n",
    "    le.fit(dat[:, ix])\n",
    "    y = le.transform(dat[:, ix])\n",
    "    dataa = np.vstack((dataa , y))\n",
    "\n",
    "data = dataa.T\n",
    "\n",
    "cate = data[:, 0]\n",
    "\n",
    "data.shape\n"
   ],
   "metadata": {
    "collapsed": false
   }
  },
  {
   "cell_type": "code",
   "execution_count": 52,
   "outputs": [
    {
     "data": {
      "text/plain": "((6499, 22), (6499,))"
     },
     "execution_count": 52,
     "metadata": {},
     "output_type": "execute_result"
    }
   ],
   "source": [
    "\n",
    "split = int(0.80 * data.shape[0])\n",
    "\n",
    "x_train = data[:split , 1:]\n",
    "y_train = data[:split, 0]\n",
    "\n",
    "x_test = data[split: , 1:]\n",
    "y_test = data[split: , 0]\n",
    "\n",
    "x_train.shape, y_train.shape\n"
   ],
   "metadata": {
    "collapsed": false
   }
  },
  {
   "cell_type": "code",
   "execution_count": 53,
   "outputs": [
    {
     "data": {
      "text/plain": "((1625, 22), (1625,))"
     },
     "execution_count": 53,
     "metadata": {},
     "output_type": "execute_result"
    }
   ],
   "source": [
    "x_test.shape, y_test.shape"
   ],
   "metadata": {
    "collapsed": false
   }
  },
  {
   "cell_type": "code",
   "execution_count": 55,
   "outputs": [
    {
     "name": "stdout",
     "output_type": "stream",
     "text": [
      "(6499, 22) (1625, 22)\n",
      "(6499,) (1625,)\n",
      "(8124, 23)\n"
     ]
    }
   ],
   "source": [
    "y = np_utils.to_categorical(cate)\n",
    "Y_train = y[:split]\n",
    "Y_test = y[split:]\n",
    "\n",
    "print(x_train.shape, x_test.shape)\n",
    "print (y_train.shape, y_test.shape)\n",
    "print (data.shape)"
   ],
   "metadata": {
    "collapsed": false
   }
  },
  {
   "cell_type": "code",
   "execution_count": 60,
   "outputs": [
    {
     "name": "stdout",
     "output_type": "stream",
     "text": [
      "Model: \"sequential_2\"\n",
      "_________________________________________________________________\n",
      " Layer (type)                Output Shape              Param #   \n",
      "=================================================================\n",
      " dense_8 (Dense)             (None, 11)                253       \n",
      "                                                                 \n",
      " activation_3 (Activation)   (None, 11)                0         \n",
      "                                                                 \n",
      " dense_9 (Dense)             (None, 5)                 60        \n",
      "                                                                 \n",
      " activation_4 (Activation)   (None, 5)                 0         \n",
      "                                                                 \n",
      " dense_10 (Dense)            (None, 2)                 12        \n",
      "                                                                 \n",
      " activation_5 (Activation)   (None, 2)                 0         \n",
      "                                                                 \n",
      "=================================================================\n",
      "Total params: 325\n",
      "Trainable params: 325\n",
      "Non-trainable params: 0\n",
      "_________________________________________________________________\n"
     ]
    }
   ],
   "source": [
    "model = Sequential()\n",
    "\n",
    "model.add(Dense(11, input_shape=(22,)))\n",
    "model.add(Activation('relu'))\n",
    "\n",
    "model.add(Dense(5))\n",
    "model.add(Activation('relu'))\n",
    "\n",
    "model.add(Dense(2))\n",
    "model.add(Activation('softmax'))\n",
    "\n",
    "model.summary()\n",
    "model.compile(loss='categorical_crossentropy', optimizer='adam', metrics=['acc'])"
   ],
   "metadata": {
    "collapsed": false
   }
  },
  {
   "cell_type": "code",
   "execution_count": 61,
   "outputs": [
    {
     "name": "stdout",
     "output_type": "stream",
     "text": [
      "Epoch 1/70\n",
      "51/51 [==============================] - 1s 6ms/step - loss: 0.7444 - acc: 0.6684 - val_loss: 0.5115 - val_acc: 0.7557\n",
      "Epoch 2/70\n",
      "51/51 [==============================] - 0s 2ms/step - loss: 0.5418 - acc: 0.7453 - val_loss: 0.4733 - val_acc: 0.7483\n",
      "Epoch 3/70\n",
      "51/51 [==============================] - 0s 2ms/step - loss: 0.4792 - acc: 0.7818 - val_loss: 0.4275 - val_acc: 0.7668\n",
      "Epoch 4/70\n",
      "51/51 [==============================] - 0s 2ms/step - loss: 0.4256 - acc: 0.8164 - val_loss: 0.3826 - val_acc: 0.8172\n",
      "Epoch 5/70\n",
      "51/51 [==============================] - 0s 2ms/step - loss: 0.3738 - acc: 0.8429 - val_loss: 0.3438 - val_acc: 0.8382\n",
      "Epoch 6/70\n",
      "51/51 [==============================] - 0s 2ms/step - loss: 0.3254 - acc: 0.8731 - val_loss: 0.3371 - val_acc: 0.8375\n",
      "Epoch 7/70\n",
      "51/51 [==============================] - 0s 2ms/step - loss: 0.2793 - acc: 0.8986 - val_loss: 0.3338 - val_acc: 0.8505\n",
      "Epoch 8/70\n",
      "51/51 [==============================] - 0s 2ms/step - loss: 0.2399 - acc: 0.9184 - val_loss: 0.2972 - val_acc: 0.8898\n",
      "Epoch 9/70\n",
      "51/51 [==============================] - 0s 2ms/step - loss: 0.2089 - acc: 0.9306 - val_loss: 0.3098 - val_acc: 0.8874\n",
      "Epoch 10/70\n",
      "51/51 [==============================] - 0s 2ms/step - loss: 0.1811 - acc: 0.9425 - val_loss: 0.3115 - val_acc: 0.8825\n",
      "Epoch 11/70\n",
      "51/51 [==============================] - 0s 2ms/step - loss: 0.1598 - acc: 0.9508 - val_loss: 0.3291 - val_acc: 0.8775\n",
      "Epoch 12/70\n",
      "51/51 [==============================] - 0s 2ms/step - loss: 0.1426 - acc: 0.9572 - val_loss: 0.3303 - val_acc: 0.8812\n",
      "Epoch 13/70\n",
      "51/51 [==============================] - 0s 2ms/step - loss: 0.1277 - acc: 0.9605 - val_loss: 0.3456 - val_acc: 0.8738\n",
      "Epoch 14/70\n",
      "51/51 [==============================] - 0s 2ms/step - loss: 0.1141 - acc: 0.9631 - val_loss: 0.3124 - val_acc: 0.8862\n",
      "Epoch 15/70\n",
      "51/51 [==============================] - 0s 2ms/step - loss: 0.1015 - acc: 0.9689 - val_loss: 0.2992 - val_acc: 0.8960\n",
      "Epoch 16/70\n",
      "51/51 [==============================] - 0s 2ms/step - loss: 0.0918 - acc: 0.9718 - val_loss: 0.3289 - val_acc: 0.8818\n",
      "Epoch 17/70\n",
      "51/51 [==============================] - 0s 2ms/step - loss: 0.0818 - acc: 0.9772 - val_loss: 0.3466 - val_acc: 0.8775\n",
      "Epoch 18/70\n",
      "51/51 [==============================] - 0s 2ms/step - loss: 0.0738 - acc: 0.9815 - val_loss: 0.2872 - val_acc: 0.8972\n",
      "Epoch 19/70\n",
      "51/51 [==============================] - 0s 2ms/step - loss: 0.0679 - acc: 0.9845 - val_loss: 0.2987 - val_acc: 0.8942\n",
      "Epoch 20/70\n",
      "51/51 [==============================] - 0s 2ms/step - loss: 0.0611 - acc: 0.9875 - val_loss: 0.3208 - val_acc: 0.8905\n",
      "Epoch 21/70\n",
      "51/51 [==============================] - 0s 2ms/step - loss: 0.0567 - acc: 0.9880 - val_loss: 0.2970 - val_acc: 0.8954\n",
      "Epoch 22/70\n",
      "51/51 [==============================] - 0s 2ms/step - loss: 0.0517 - acc: 0.9914 - val_loss: 0.2964 - val_acc: 0.8960\n",
      "Epoch 23/70\n",
      "51/51 [==============================] - 0s 2ms/step - loss: 0.0485 - acc: 0.9914 - val_loss: 0.2535 - val_acc: 0.9058\n",
      "Epoch 24/70\n",
      "51/51 [==============================] - 0s 2ms/step - loss: 0.0446 - acc: 0.9928 - val_loss: 0.3032 - val_acc: 0.8960\n",
      "Epoch 25/70\n",
      "51/51 [==============================] - 0s 2ms/step - loss: 0.0411 - acc: 0.9942 - val_loss: 0.2672 - val_acc: 0.9015\n",
      "Epoch 26/70\n",
      "51/51 [==============================] - 0s 2ms/step - loss: 0.0384 - acc: 0.9942 - val_loss: 0.2994 - val_acc: 0.8966\n",
      "Epoch 27/70\n",
      "51/51 [==============================] - 0s 2ms/step - loss: 0.0354 - acc: 0.9951 - val_loss: 0.2680 - val_acc: 0.9003\n",
      "Epoch 28/70\n",
      "51/51 [==============================] - 0s 2ms/step - loss: 0.0331 - acc: 0.9954 - val_loss: 0.2478 - val_acc: 0.9040\n",
      "Epoch 29/70\n",
      "51/51 [==============================] - 0s 2ms/step - loss: 0.0307 - acc: 0.9968 - val_loss: 0.2796 - val_acc: 0.8985\n",
      "Epoch 30/70\n",
      "51/51 [==============================] - 0s 2ms/step - loss: 0.0288 - acc: 0.9963 - val_loss: 0.2377 - val_acc: 0.9052\n",
      "Epoch 31/70\n",
      "51/51 [==============================] - 0s 2ms/step - loss: 0.0271 - acc: 0.9972 - val_loss: 0.2171 - val_acc: 0.9114\n",
      "Epoch 32/70\n",
      "51/51 [==============================] - 0s 2ms/step - loss: 0.0253 - acc: 0.9974 - val_loss: 0.2402 - val_acc: 0.9058\n",
      "Epoch 33/70\n",
      "51/51 [==============================] - 0s 2ms/step - loss: 0.0235 - acc: 0.9974 - val_loss: 0.2248 - val_acc: 0.9083\n",
      "Epoch 34/70\n",
      "51/51 [==============================] - 0s 2ms/step - loss: 0.0222 - acc: 0.9975 - val_loss: 0.2180 - val_acc: 0.9089\n",
      "Epoch 35/70\n",
      "51/51 [==============================] - 0s 2ms/step - loss: 0.0207 - acc: 0.9975 - val_loss: 0.1959 - val_acc: 0.9182\n",
      "Epoch 36/70\n",
      "51/51 [==============================] - 0s 2ms/step - loss: 0.0198 - acc: 0.9975 - val_loss: 0.2195 - val_acc: 0.9089\n",
      "Epoch 37/70\n",
      "51/51 [==============================] - 0s 2ms/step - loss: 0.0180 - acc: 0.9977 - val_loss: 0.1746 - val_acc: 0.9274\n",
      "Epoch 38/70\n",
      "51/51 [==============================] - 0s 2ms/step - loss: 0.0169 - acc: 0.9977 - val_loss: 0.1570 - val_acc: 0.9409\n",
      "Epoch 39/70\n",
      "51/51 [==============================] - 0s 2ms/step - loss: 0.0157 - acc: 0.9982 - val_loss: 0.1805 - val_acc: 0.9262\n",
      "Epoch 40/70\n",
      "51/51 [==============================] - 0s 2ms/step - loss: 0.0147 - acc: 0.9982 - val_loss: 0.1423 - val_acc: 0.9489\n",
      "Epoch 41/70\n",
      "51/51 [==============================] - 0s 2ms/step - loss: 0.0132 - acc: 0.9983 - val_loss: 0.1481 - val_acc: 0.9452\n",
      "Epoch 42/70\n",
      "51/51 [==============================] - 0s 2ms/step - loss: 0.0123 - acc: 0.9982 - val_loss: 0.1352 - val_acc: 0.9532\n",
      "Epoch 43/70\n",
      "51/51 [==============================] - 0s 2ms/step - loss: 0.0117 - acc: 0.9983 - val_loss: 0.1382 - val_acc: 0.9526\n",
      "Epoch 44/70\n",
      "51/51 [==============================] - 0s 2ms/step - loss: 0.0109 - acc: 0.9988 - val_loss: 0.1343 - val_acc: 0.9545\n",
      "Epoch 45/70\n",
      "51/51 [==============================] - 0s 2ms/step - loss: 0.0102 - acc: 0.9989 - val_loss: 0.1426 - val_acc: 0.9508\n",
      "Epoch 46/70\n",
      "51/51 [==============================] - 0s 2ms/step - loss: 0.0098 - acc: 0.9992 - val_loss: 0.1157 - val_acc: 0.9575\n",
      "Epoch 47/70\n",
      "51/51 [==============================] - 0s 2ms/step - loss: 0.0090 - acc: 0.9994 - val_loss: 0.1255 - val_acc: 0.9538\n",
      "Epoch 48/70\n",
      "51/51 [==============================] - 0s 2ms/step - loss: 0.0087 - acc: 0.9994 - val_loss: 0.1232 - val_acc: 0.9563\n",
      "Epoch 49/70\n",
      "51/51 [==============================] - 0s 2ms/step - loss: 0.0081 - acc: 0.9997 - val_loss: 0.1243 - val_acc: 0.9526\n",
      "Epoch 50/70\n",
      "51/51 [==============================] - 0s 2ms/step - loss: 0.0078 - acc: 0.9998 - val_loss: 0.1193 - val_acc: 0.9575\n",
      "Epoch 51/70\n",
      "51/51 [==============================] - 0s 2ms/step - loss: 0.0069 - acc: 0.9997 - val_loss: 0.1129 - val_acc: 0.9649\n",
      "Epoch 52/70\n",
      "51/51 [==============================] - 0s 2ms/step - loss: 0.0069 - acc: 0.9998 - val_loss: 0.1191 - val_acc: 0.9637\n",
      "Epoch 53/70\n",
      "51/51 [==============================] - 0s 3ms/step - loss: 0.0060 - acc: 1.0000 - val_loss: 0.1120 - val_acc: 0.9668\n",
      "Epoch 54/70\n",
      "51/51 [==============================] - 0s 2ms/step - loss: 0.0058 - acc: 1.0000 - val_loss: 0.1203 - val_acc: 0.9600\n",
      "Epoch 55/70\n",
      "51/51 [==============================] - 0s 2ms/step - loss: 0.0058 - acc: 1.0000 - val_loss: 0.1108 - val_acc: 0.9668\n",
      "Epoch 56/70\n",
      "51/51 [==============================] - 0s 2ms/step - loss: 0.0050 - acc: 1.0000 - val_loss: 0.1147 - val_acc: 0.9668\n",
      "Epoch 57/70\n",
      "51/51 [==============================] - 0s 2ms/step - loss: 0.0049 - acc: 1.0000 - val_loss: 0.1107 - val_acc: 0.9674\n",
      "Epoch 58/70\n",
      "51/51 [==============================] - 0s 2ms/step - loss: 0.0045 - acc: 1.0000 - val_loss: 0.1160 - val_acc: 0.9668\n",
      "Epoch 59/70\n",
      "51/51 [==============================] - 0s 2ms/step - loss: 0.0044 - acc: 1.0000 - val_loss: 0.1158 - val_acc: 0.9668\n",
      "Epoch 60/70\n",
      "51/51 [==============================] - 0s 2ms/step - loss: 0.0040 - acc: 1.0000 - val_loss: 0.1146 - val_acc: 0.9692\n",
      "Epoch 61/70\n",
      "51/51 [==============================] - 0s 3ms/step - loss: 0.0039 - acc: 1.0000 - val_loss: 0.1106 - val_acc: 0.9692\n",
      "Epoch 62/70\n",
      "51/51 [==============================] - 0s 2ms/step - loss: 0.0037 - acc: 1.0000 - val_loss: 0.1122 - val_acc: 0.9686\n",
      "Epoch 63/70\n",
      "51/51 [==============================] - 0s 3ms/step - loss: 0.0035 - acc: 1.0000 - val_loss: 0.1097 - val_acc: 0.9698\n",
      "Epoch 64/70\n",
      "51/51 [==============================] - 0s 3ms/step - loss: 0.0032 - acc: 1.0000 - val_loss: 0.1156 - val_acc: 0.9692\n",
      "Epoch 65/70\n",
      "51/51 [==============================] - 0s 2ms/step - loss: 0.0032 - acc: 1.0000 - val_loss: 0.1121 - val_acc: 0.9698\n",
      "Epoch 66/70\n",
      "51/51 [==============================] - 0s 2ms/step - loss: 0.0030 - acc: 1.0000 - val_loss: 0.1126 - val_acc: 0.9698\n",
      "Epoch 67/70\n",
      "51/51 [==============================] - 0s 2ms/step - loss: 0.0028 - acc: 1.0000 - val_loss: 0.1165 - val_acc: 0.9705\n",
      "Epoch 68/70\n",
      "51/51 [==============================] - 0s 2ms/step - loss: 0.0027 - acc: 1.0000 - val_loss: 0.1118 - val_acc: 0.9705\n",
      "Epoch 69/70\n",
      "51/51 [==============================] - 0s 2ms/step - loss: 0.0026 - acc: 1.0000 - val_loss: 0.1149 - val_acc: 0.9705\n",
      "Epoch 70/70\n",
      "51/51 [==============================] - 0s 3ms/step - loss: 0.0025 - acc: 1.0000 - val_loss: 0.1115 - val_acc: 0.9705\n"
     ]
    }
   ],
   "source": [
    "hist = model.fit(x_train, Y_train,\n",
    "                 epochs=70,\n",
    "                 shuffle=True,\n",
    "                 batch_size=128,\n",
    "                 validation_data=(x_test, Y_test))"
   ],
   "metadata": {
    "collapsed": false
   }
  },
  {
   "cell_type": "code",
   "execution_count": 62,
   "outputs": [
    {
     "data": {
      "text/plain": "<Figure size 1400x300 with 2 Axes>",
      "image/png": "[encoded data removed]"
     },
     "metadata": {},
     "output_type": "display_data"
    }
   ],
   "source": [
    "plt.figure(figsize=(14,3))\n",
    "plt.subplot(1, 2, 1)\n",
    "plt.suptitle('Optimizer : Adam', fontsize=10)\n",
    "plt.ylabel('Loss', fontsize=16)\n",
    "plt.plot(hist.history['loss'], 'b', label='Training Loss')\n",
    "plt.plot(hist.history['val_loss'], 'r', label='Validation Loss')\n",
    "plt.legend(loc='upper right')\n",
    "\n",
    "plt.subplot(1, 2, 2)\n",
    "plt.ylabel('Accuracy', fontsize=16)\n",
    "plt.plot(hist.history['acc'], 'b', label='Training Accuracy')\n",
    "plt.plot(hist.history['val_acc'], 'r', label='Validation Accuracy')\n",
    "plt.legend(loc='lower right')\n",
    "plt.show()"
   ],
   "metadata": {
    "collapsed": false
   }
  },
  {
   "cell_type": "code",
   "execution_count": 64,
   "outputs": [
    {
     "name": "stdout",
     "output_type": "stream",
     "text": [
      "<class 'pandas.core.frame.DataFrame'>\n",
      "RangeIndex: 2000 entries, 0 to 1999\n",
      "Data columns (total 22 columns):\n",
      " #   Column                    Non-Null Count  Dtype \n",
      "---  ------                    --------------  ----- \n",
      " 0   cap-shape                 2000 non-null   object\n",
      " 1   cap-surface               2000 non-null   object\n",
      " 2   cap-color                 2000 non-null   object\n",
      " 3   bruises                   2000 non-null   object\n",
      " 4   odor                      2000 non-null   object\n",
      " 5   gill-attachment           2000 non-null   object\n",
      " 6   gill-spacing              2000 non-null   object\n",
      " 7   gill-size                 2000 non-null   object\n",
      " 8   gill-color                2000 non-null   object\n",
      " 9   stalk-shape               2000 non-null   object\n",
      " 10  stalk-root                2000 non-null   object\n",
      " 11  stalk-surface-above-ring  2000 non-null   object\n",
      " 12  stalk-surface-below-ring  2000 non-null   object\n",
      " 13  stalk-color-above-ring    2000 non-null   object\n",
      " 14  stalk-color-below-ring    2000 non-null   object\n",
      " 15  veil-type                 2000 non-null   object\n",
      " 16  veil-color                2000 non-null   object\n",
      " 17  ring-number               2000 non-null   object\n",
      " 18  ring-type                 2000 non-null   object\n",
      " 19  spore-print-color         2000 non-null   object\n",
      " 20  population                2000 non-null   object\n",
      " 21  habitat                   2000 non-null   object\n",
      "dtypes: object(22)\n",
      "memory usage: 343.9+ KB\n"
     ]
    }
   ],
   "source": [
    "Test_df=pd.read_csv(\"../Dataset/test.csv\")\n",
    "Test_p = Test_df.copy()\n",
    "Test_p.drop(['index'], axis=1, inplace=True)\n",
    "Test_p.info()\n"
   ],
   "metadata": {
    "collapsed": false
   }
  },
  {
   "cell_type": "code",
   "execution_count": 67,
   "outputs": [
    {
     "ename": "UnimplementedError",
     "evalue": "Graph execution error:\n\nDetected at node 'sequential_2/Cast' defined at (most recent call last):\n    File \"C:\\Users\\Piyush\\anaconda3\\envs\\MLnewConda\\lib\\runpy.py\", line 196, in _run_module_as_main\n      return _run_code(code, main_globals, None,\n    File \"C:\\Users\\Piyush\\anaconda3\\envs\\MLnewConda\\lib\\runpy.py\", line 86, in _run_code\n      exec(code, run_globals)\n    File \"C:\\Users\\Piyush\\AppData\\Roaming\\Python\\Python310\\site-packages\\ipykernel_launcher.py\", line 17, in <module>\n      app.launch_new_instance()\n    File \"C:\\Users\\Piyush\\AppData\\Roaming\\Python\\Python310\\site-packages\\traitlets\\config\\application.py\", line 982, in launch_instance\n      app.start()\n    File \"C:\\Users\\Piyush\\AppData\\Roaming\\Python\\Python310\\site-packages\\ipykernel\\kernelapp.py\", line 712, in start\n      self.io_loop.start()\n    File \"C:\\Users\\Piyush\\AppData\\Roaming\\Python\\Python310\\site-packages\\tornado\\platform\\asyncio.py\", line 215, in start\n      self.asyncio_loop.run_forever()\n    File \"C:\\Users\\Piyush\\anaconda3\\envs\\MLnewConda\\lib\\asyncio\\base_events.py\", line 603, in run_forever\n      self._run_once()\n    File \"C:\\Users\\Piyush\\anaconda3\\envs\\MLnewConda\\lib\\asyncio\\base_events.py\", line 1899, in _run_once\n      handle._run()\n    File \"C:\\Users\\Piyush\\anaconda3\\envs\\MLnewConda\\lib\\asyncio\\events.py\", line 80, in _run\n      self._context.run(self._callback, *self._args)\n    File \"C:\\Users\\Piyush\\AppData\\Roaming\\Python\\Python310\\site-packages\\ipykernel\\kernelbase.py\", line 510, in dispatch_queue\n      await self.process_one()\n    File \"C:\\Users\\Piyush\\AppData\\Roaming\\Python\\Python310\\site-packages\\ipykernel\\kernelbase.py\", line 499, in process_one\n      await dispatch(*args)\n    File \"C:\\Users\\Piyush\\AppData\\Roaming\\Python\\Python310\\site-packages\\ipykernel\\kernelbase.py\", line 406, in dispatch_shell\n      await result\n    File \"C:\\Users\\Piyush\\AppData\\Roaming\\Python\\Python310\\site-packages\\ipykernel\\kernelbase.py\", line 730, in execute_request\n      reply_content = await reply_content\n    File \"C:\\Users\\Piyush\\AppData\\Roaming\\Python\\Python310\\site-packages\\ipykernel\\ipkernel.py\", line 383, in do_execute\n      res = shell.run_cell(\n    File \"C:\\Users\\Piyush\\AppData\\Roaming\\Python\\Python310\\site-packages\\ipykernel\\zmqshell.py\", line 528, in run_cell\n      return super().run_cell(*args, **kwargs)\n    File \"C:\\Users\\Piyush\\AppData\\Roaming\\Python\\Python310\\site-packages\\IPython\\core\\interactiveshell.py\", line 2940, in run_cell\n      result = self._run_cell(\n    File \"C:\\Users\\Piyush\\AppData\\Roaming\\Python\\Python310\\site-packages\\IPython\\core\\interactiveshell.py\", line 2995, in _run_cell\n      return runner(coro)\n    File \"C:\\Users\\Piyush\\AppData\\Roaming\\Python\\Python310\\site-packages\\IPython\\core\\async_helpers.py\", line 129, in _pseudo_sync_runner\n      coro.send(None)\n    File \"C:\\Users\\Piyush\\AppData\\Roaming\\Python\\Python310\\site-packages\\IPython\\core\\interactiveshell.py\", line 3194, in run_cell_async\n      has_raised = await self.run_ast_nodes(code_ast.body, cell_name,\n    File \"C:\\Users\\Piyush\\AppData\\Roaming\\Python\\Python310\\site-packages\\IPython\\core\\interactiveshell.py\", line 3373, in run_ast_nodes\n      if await self.run_code(code, result, async_=asy):\n    File \"C:\\Users\\Piyush\\AppData\\Roaming\\Python\\Python310\\site-packages\\IPython\\core\\interactiveshell.py\", line 3433, in run_code\n      exec(code_obj, self.user_global_ns, self.user_ns)\n    File \"C:\\Users\\Piyush\\AppData\\Local\\Temp\\ipykernel_29880\\1498064198.py\", line 1, in <module>\n      y_pred = model.predict(Test_p)\n    File \"C:\\Users\\Piyush\\anaconda3\\envs\\MLnewConda\\lib\\site-packages\\keras\\utils\\traceback_utils.py\", line 64, in error_handler\n      return fn(*args, **kwargs)\n    File \"C:\\Users\\Piyush\\anaconda3\\envs\\MLnewConda\\lib\\site-packages\\keras\\engine\\training.py\", line 2033, in predict\n      tmp_batch_outputs = self.predict_function(iterator)\n    File \"C:\\Users\\Piyush\\anaconda3\\envs\\MLnewConda\\lib\\site-packages\\keras\\engine\\training.py\", line 1845, in predict_function\n      return step_function(self, iterator)\n    File \"C:\\Users\\Piyush\\anaconda3\\envs\\MLnewConda\\lib\\site-packages\\keras\\engine\\training.py\", line 1834, in step_function\n      outputs = model.distribute_strategy.run(run_step, args=(data,))\n    File \"C:\\Users\\Piyush\\anaconda3\\envs\\MLnewConda\\lib\\site-packages\\keras\\engine\\training.py\", line 1823, in run_step\n      outputs = model.predict_step(data)\n    File \"C:\\Users\\Piyush\\anaconda3\\envs\\MLnewConda\\lib\\site-packages\\keras\\engine\\training.py\", line 1791, in predict_step\n      return self(x, training=False)\n    File \"C:\\Users\\Piyush\\anaconda3\\envs\\MLnewConda\\lib\\site-packages\\keras\\utils\\traceback_utils.py\", line 64, in error_handler\n      return fn(*args, **kwargs)\n    File \"C:\\Users\\Piyush\\anaconda3\\envs\\MLnewConda\\lib\\site-packages\\keras\\engine\\training.py\", line 490, in __call__\n      return super().__call__(*args, **kwargs)\n    File \"C:\\Users\\Piyush\\anaconda3\\envs\\MLnewConda\\lib\\site-packages\\keras\\utils\\traceback_utils.py\", line 64, in error_handler\n      return fn(*args, **kwargs)\n    File \"C:\\Users\\Piyush\\anaconda3\\envs\\MLnewConda\\lib\\site-packages\\keras\\engine\\base_layer.py\", line 1014, in __call__\n      outputs = call_fn(inputs, *args, **kwargs)\n    File \"C:\\Users\\Piyush\\anaconda3\\envs\\MLnewConda\\lib\\site-packages\\keras\\utils\\traceback_utils.py\", line 92, in error_handler\n      return fn(*args, **kwargs)\n    File \"C:\\Users\\Piyush\\anaconda3\\envs\\MLnewConda\\lib\\site-packages\\keras\\engine\\sequential.py\", line 374, in call\n      return super(Sequential, self).call(inputs, training=training, mask=mask)\n    File \"C:\\Users\\Piyush\\anaconda3\\envs\\MLnewConda\\lib\\site-packages\\keras\\engine\\functional.py\", line 458, in call\n      return self._run_internal_graph(\n    File \"C:\\Users\\Piyush\\anaconda3\\envs\\MLnewConda\\lib\\site-packages\\keras\\engine\\functional.py\", line 578, in _run_internal_graph\n      y = self._conform_to_reference_input(y, ref_input=x)\n    File \"C:\\Users\\Piyush\\anaconda3\\envs\\MLnewConda\\lib\\site-packages\\keras\\engine\\functional.py\", line 678, in _conform_to_reference_input\n      tensor = tf.cast(tensor, dtype=ref_input.dtype)\nNode: 'sequential_2/Cast'\nCast string to float is not supported\n\t [[{{node sequential_2/Cast}}]] [Op:__inference_predict_function_77072]",
     "output_type": "error",
     "traceback": [
      "\u001B[1;31m---------------------------------------------------------------------------\u001B[0m",
      "\u001B[1;31mUnimplementedError\u001B[0m                        Traceback (most recent call last)",
      "Cell \u001B[1;32mIn [67], line 1\u001B[0m\n\u001B[1;32m----> 1\u001B[0m y_pred \u001B[38;5;241m=\u001B[39m \u001B[43mmodel\u001B[49m\u001B[38;5;241;43m.\u001B[39;49m\u001B[43mpredict\u001B[49m\u001B[43m(\u001B[49m\u001B[43mTest_p\u001B[49m\u001B[43m)\u001B[49m\n",
      "File \u001B[1;32m~\\anaconda3\\envs\\MLnewConda\\lib\\site-packages\\keras\\utils\\traceback_utils.py:67\u001B[0m, in \u001B[0;36mfilter_traceback.<locals>.error_handler\u001B[1;34m(*args, **kwargs)\u001B[0m\n\u001B[0;32m     65\u001B[0m \u001B[38;5;28;01mexcept\u001B[39;00m \u001B[38;5;167;01mException\u001B[39;00m \u001B[38;5;28;01mas\u001B[39;00m e:  \u001B[38;5;66;03m# pylint: disable=broad-except\u001B[39;00m\n\u001B[0;32m     66\u001B[0m   filtered_tb \u001B[38;5;241m=\u001B[39m _process_traceback_frames(e\u001B[38;5;241m.\u001B[39m__traceback__)\n\u001B[1;32m---> 67\u001B[0m   \u001B[38;5;28;01mraise\u001B[39;00m e\u001B[38;5;241m.\u001B[39mwith_traceback(filtered_tb) \u001B[38;5;28;01mfrom\u001B[39;00m \u001B[38;5;28mNone\u001B[39m\n\u001B[0;32m     68\u001B[0m \u001B[38;5;28;01mfinally\u001B[39;00m:\n\u001B[0;32m     69\u001B[0m   \u001B[38;5;28;01mdel\u001B[39;00m filtered_tb\n",
      "File \u001B[1;32m~\\anaconda3\\envs\\MLnewConda\\lib\\site-packages\\tensorflow\\python\\eager\\execute.py:54\u001B[0m, in \u001B[0;36mquick_execute\u001B[1;34m(op_name, num_outputs, inputs, attrs, ctx, name)\u001B[0m\n\u001B[0;32m     52\u001B[0m \u001B[38;5;28;01mtry\u001B[39;00m:\n\u001B[0;32m     53\u001B[0m   ctx\u001B[38;5;241m.\u001B[39mensure_initialized()\n\u001B[1;32m---> 54\u001B[0m   tensors \u001B[38;5;241m=\u001B[39m pywrap_tfe\u001B[38;5;241m.\u001B[39mTFE_Py_Execute(ctx\u001B[38;5;241m.\u001B[39m_handle, device_name, op_name,\n\u001B[0;32m     55\u001B[0m                                       inputs, attrs, num_outputs)\n\u001B[0;32m     56\u001B[0m \u001B[38;5;28;01mexcept\u001B[39;00m core\u001B[38;5;241m.\u001B[39m_NotOkStatusException \u001B[38;5;28;01mas\u001B[39;00m e:\n\u001B[0;32m     57\u001B[0m   \u001B[38;5;28;01mif\u001B[39;00m name \u001B[38;5;129;01mis\u001B[39;00m \u001B[38;5;129;01mnot\u001B[39;00m \u001B[38;5;28;01mNone\u001B[39;00m:\n",
      "\u001B[1;31mUnimplementedError\u001B[0m: Graph execution error:\n\nDetected at node 'sequential_2/Cast' defined at (most recent call last):\n    File \"C:\\Users\\Piyush\\anaconda3\\envs\\MLnewConda\\lib\\runpy.py\", line 196, in _run_module_as_main\n      return _run_code(code, main_globals, None,\n    File \"C:\\Users\\Piyush\\anaconda3\\envs\\MLnewConda\\lib\\runpy.py\", line 86, in _run_code\n      exec(code, run_globals)\n    File \"C:\\Users\\Piyush\\AppData\\Roaming\\Python\\Python310\\site-packages\\ipykernel_launcher.py\", line 17, in <module>\n      app.launch_new_instance()\n    File \"C:\\Users\\Piyush\\AppData\\Roaming\\Python\\Python310\\site-packages\\traitlets\\config\\application.py\", line 982, in launch_instance\n      app.start()\n    File \"C:\\Users\\Piyush\\AppData\\Roaming\\Python\\Python310\\site-packages\\ipykernel\\kernelapp.py\", line 712, in start\n      self.io_loop.start()\n    File \"C:\\Users\\Piyush\\AppData\\Roaming\\Python\\Python310\\site-packages\\tornado\\platform\\asyncio.py\", line 215, in start\n      self.asyncio_loop.run_forever()\n    File \"C:\\Users\\Piyush\\anaconda3\\envs\\MLnewConda\\lib\\asyncio\\base_events.py\", line 603, in run_forever\n      self._run_once()\n    File \"C:\\Users\\Piyush\\anaconda3\\envs\\MLnewConda\\lib\\asyncio\\base_events.py\", line 1899, in _run_once\n      handle._run()\n    File \"C:\\Users\\Piyush\\anaconda3\\envs\\MLnewConda\\lib\\asyncio\\events.py\", line 80, in _run\n      self._context.run(self._callback, *self._args)\n    File \"C:\\Users\\Piyush\\AppData\\Roaming\\Python\\Python310\\site-packages\\ipykernel\\kernelbase.py\", line 510, in dispatch_queue\n      await self.process_one()\n    File \"C:\\Users\\Piyush\\AppData\\Roaming\\Python\\Python310\\site-packages\\ipykernel\\kernelbase.py\", line 499, in process_one\n      await dispatch(*args)\n    File \"C:\\Users\\Piyush\\AppData\\Roaming\\Python\\Python310\\site-packages\\ipykernel\\kernelbase.py\", line 406, in dispatch_shell\n      await result\n    File \"C:\\Users\\Piyush\\AppData\\Roaming\\Python\\Python310\\site-packages\\ipykernel\\kernelbase.py\", line 730, in execute_request\n      reply_content = await reply_content\n    File \"C:\\Users\\Piyush\\AppData\\Roaming\\Python\\Python310\\site-packages\\ipykernel\\ipkernel.py\", line 383, in do_execute\n      res = shell.run_cell(\n    File \"C:\\Users\\Piyush\\AppData\\Roaming\\Python\\Python310\\site-packages\\ipykernel\\zmqshell.py\", line 528, in run_cell\n      return super().run_cell(*args, **kwargs)\n    File \"C:\\Users\\Piyush\\AppData\\Roaming\\Python\\Python310\\site-packages\\IPython\\core\\interactiveshell.py\", line 2940, in run_cell\n      result = self._run_cell(\n    File \"C:\\Users\\Piyush\\AppData\\Roaming\\Python\\Python310\\site-packages\\IPython\\core\\interactiveshell.py\", line 2995, in _run_cell\n      return runner(coro)\n    File \"C:\\Users\\Piyush\\AppData\\Roaming\\Python\\Python310\\site-packages\\IPython\\core\\async_helpers.py\", line 129, in _pseudo_sync_runner\n      coro.send(None)\n    File \"C:\\Users\\Piyush\\AppData\\Roaming\\Python\\Python310\\site-packages\\IPython\\core\\interactiveshell.py\", line 3194, in run_cell_async\n      has_raised = await self.run_ast_nodes(code_ast.body, cell_name,\n    File \"C:\\Users\\Piyush\\AppData\\Roaming\\Python\\Python310\\site-packages\\IPython\\core\\interactiveshell.py\", line 3373, in run_ast_nodes\n      if await self.run_code(code, result, async_=asy):\n    File \"C:\\Users\\Piyush\\AppData\\Roaming\\Python\\Python310\\site-packages\\IPython\\core\\interactiveshell.py\", line 3433, in run_code\n      exec(code_obj, self.user_global_ns, self.user_ns)\n    File \"C:\\Users\\Piyush\\AppData\\Local\\Temp\\ipykernel_29880\\1498064198.py\", line 1, in <module>\n      y_pred = model.predict(Test_p)\n    File \"C:\\Users\\Piyush\\anaconda3\\envs\\MLnewConda\\lib\\site-packages\\keras\\utils\\traceback_utils.py\", line 64, in error_handler\n      return fn(*args, **kwargs)\n    File \"C:\\Users\\Piyush\\anaconda3\\envs\\MLnewConda\\lib\\site-packages\\keras\\engine\\training.py\", line 2033, in predict\n      tmp_batch_outputs = self.predict_function(iterator)\n    File \"C:\\Users\\Piyush\\anaconda3\\envs\\MLnewConda\\lib\\site-packages\\keras\\engine\\training.py\", line 1845, in predict_function\n      return step_function(self, iterator)\n    File \"C:\\Users\\Piyush\\anaconda3\\envs\\MLnewConda\\lib\\site-packages\\keras\\engine\\training.py\", line 1834, in step_function\n      outputs = model.distribute_strategy.run(run_step, args=(data,))\n    File \"C:\\Users\\Piyush\\anaconda3\\envs\\MLnewConda\\lib\\site-packages\\keras\\engine\\training.py\", line 1823, in run_step\n      outputs = model.predict_step(data)\n    File \"C:\\Users\\Piyush\\anaconda3\\envs\\MLnewConda\\lib\\site-packages\\keras\\engine\\training.py\", line 1791, in predict_step\n      return self(x, training=False)\n    File \"C:\\Users\\Piyush\\anaconda3\\envs\\MLnewConda\\lib\\site-packages\\keras\\utils\\traceback_utils.py\", line 64, in error_handler\n      return fn(*args, **kwargs)\n    File \"C:\\Users\\Piyush\\anaconda3\\envs\\MLnewConda\\lib\\site-packages\\keras\\engine\\training.py\", line 490, in __call__\n      return super().__call__(*args, **kwargs)\n    File \"C:\\Users\\Piyush\\anaconda3\\envs\\MLnewConda\\lib\\site-packages\\keras\\utils\\traceback_utils.py\", line 64, in error_handler\n      return fn(*args, **kwargs)\n    File \"C:\\Users\\Piyush\\anaconda3\\envs\\MLnewConda\\lib\\site-packages\\keras\\engine\\base_layer.py\", line 1014, in __call__\n      outputs = call_fn(inputs, *args, **kwargs)\n    File \"C:\\Users\\Piyush\\anaconda3\\envs\\MLnewConda\\lib\\site-packages\\keras\\utils\\traceback_utils.py\", line 92, in error_handler\n      return fn(*args, **kwargs)\n    File \"C:\\Users\\Piyush\\anaconda3\\envs\\MLnewConda\\lib\\site-packages\\keras\\engine\\sequential.py\", line 374, in call\n      return super(Sequential, self).call(inputs, training=training, mask=mask)\n    File \"C:\\Users\\Piyush\\anaconda3\\envs\\MLnewConda\\lib\\site-packages\\keras\\engine\\functional.py\", line 458, in call\n      return self._run_internal_graph(\n    File \"C:\\Users\\Piyush\\anaconda3\\envs\\MLnewConda\\lib\\site-packages\\keras\\engine\\functional.py\", line 578, in _run_internal_graph\n      y = self._conform_to_reference_input(y, ref_input=x)\n    File \"C:\\Users\\Piyush\\anaconda3\\envs\\MLnewConda\\lib\\site-packages\\keras\\engine\\functional.py\", line 678, in _conform_to_reference_input\n      tensor = tf.cast(tensor, dtype=ref_input.dtype)\nNode: 'sequential_2/Cast'\nCast string to float is not supported\n\t [[{{node sequential_2/Cast}}]] [Op:__inference_predict_function_77072]"
     ]
    }
   ],
   "source": [
    "y_pred = model.predict(Test_p)"
   ],
   "metadata": {
    "collapsed": false
   }
  },
  {
   "cell_type": "code",
   "execution_count": null,
   "outputs": [],
   "source": [],
   "metadata": {
    "collapsed": false
   }
  }
 ],
 "metadata": {
  "kernelspec": {
   "display_name": "Python 3",
   "language": "python",
   "name": "python3"
  },
  "language_info": {
   "codemirror_mode": {
    "name": "ipython",
    "version": 2
   },
   "file_extension": ".py",
   "mimetype": "text/x-python",
   "name": "python",
   "nbconvert_exporter": "python",
   "pygments_lexer": "ipython2",
   "version": "2.7.6"
  }
 },
 "nbformat": 4,
 "nbformat_minor": 0
}
